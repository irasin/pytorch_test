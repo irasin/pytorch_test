{
  "nbformat": 4,
  "nbformat_minor": 0,
  "metadata": {
    "colab": {
      "name": "081214.ipynb",
      "version": "0.3.2",
      "provenance": [],
      "include_colab_link": true
    },
    "kernelspec": {
      "name": "python3",
      "display_name": "Python 3"
    },
    "accelerator": "GPU"
  },
  "cells": [
    {
      "cell_type": "markdown",
      "metadata": {
        "id": "view-in-github",
        "colab_type": "text"
      },
      "source": [
        "<a href=\"https://colab.research.google.com/github/irasin/pytroch_test/blob/master/081214.ipynb\" target=\"_parent\"><img src=\"https://colab.research.google.com/assets/colab-badge.svg\" alt=\"Open In Colab\"/></a>"
      ]
    },
    {
      "metadata": {
        "id": "608L3vpsow_A",
        "colab_type": "code",
        "colab": {
          "base_uri": "https://localhost:8080/",
          "height": 326
        },
        "outputId": "60c019d6-be2e-4ff0-d599-dbfbe9f82c35"
      },
      "cell_type": "code",
      "source": [
        "!pip install torch torchvision"
      ],
      "execution_count": 2,
      "outputs": [
        {
          "output_type": "stream",
          "text": [
            "Collecting torch\n",
            "\u001b[?25l  Downloading https://files.pythonhosted.org/packages/7e/60/66415660aa46b23b5e1b72bc762e816736ce8d7260213e22365af51e8f9c/torch-1.0.0-cp36-cp36m-manylinux1_x86_64.whl (591.8MB)\n",
            "\u001b[K    100% |████████████████████████████████| 591.8MB 28kB/s \n",
            "tcmalloc: large alloc 1073750016 bytes == 0x61cee000 @  0x7f748ed5e2a4 0x591a07 0x5b5d56 0x502e9a 0x506859 0x502209 0x502f3d 0x506859 0x504c28 0x502540 0x502f3d 0x506859 0x504c28 0x502540 0x502f3d 0x506859 0x504c28 0x502540 0x502f3d 0x507641 0x502209 0x502f3d 0x506859 0x504c28 0x502540 0x502f3d 0x507641 0x504c28 0x502540 0x502f3d 0x507641\n",
            "\u001b[?25hCollecting torchvision\n",
            "\u001b[?25l  Downloading https://files.pythonhosted.org/packages/ca/0d/f00b2885711e08bd71242ebe7b96561e6f6d01fdb4b9dcf4d37e2e13c5e1/torchvision-0.2.1-py2.py3-none-any.whl (54kB)\n",
            "\u001b[K    100% |████████████████████████████████| 61kB 22.1MB/s \n",
            "\u001b[?25hRequirement already satisfied: numpy in /usr/local/lib/python3.6/dist-packages (from torchvision) (1.14.6)\n",
            "Collecting pillow>=4.1.1 (from torchvision)\n",
            "\u001b[?25l  Downloading https://files.pythonhosted.org/packages/62/94/5430ebaa83f91cc7a9f687ff5238e26164a779cca2ef9903232268b0a318/Pillow-5.3.0-cp36-cp36m-manylinux1_x86_64.whl (2.0MB)\n",
            "\u001b[K    100% |████████████████████████████████| 2.0MB 4.5MB/s \n",
            "\u001b[?25hRequirement already satisfied: six in /usr/local/lib/python3.6/dist-packages (from torchvision) (1.11.0)\n",
            "Installing collected packages: torch, pillow, torchvision\n",
            "  Found existing installation: Pillow 4.0.0\n",
            "    Uninstalling Pillow-4.0.0:\n",
            "      Successfully uninstalled Pillow-4.0.0\n",
            "Successfully installed pillow-5.3.0 torch-1.0.0 torchvision-0.2.1\n"
          ],
          "name": "stdout"
        }
      ]
    },
    {
      "metadata": {
        "id": "I4apS4LXopEa",
        "colab_type": "code",
        "colab": {}
      },
      "cell_type": "code",
      "source": [
        "from torchvision.datasets import FashionMNIST\n",
        "from torchvision import transforms\n",
        "from torch.utils.data import DataLoader\n",
        "import torch.nn as nn\n",
        "import torch.optim as optim\n",
        "import torch\n",
        "from tqdm import tqdm\n",
        "import matplotlib.pyplot as plt"
      ],
      "execution_count": 0,
      "outputs": []
    },
    {
      "metadata": {
        "id": "w4qvhiahos5t",
        "colab_type": "code",
        "colab": {
          "base_uri": "https://localhost:8080/",
          "height": 119
        },
        "outputId": "99108043-591a-4b30-b1af-5d73575cc08d"
      },
      "cell_type": "code",
      "source": [
        "train = FashionMNIST('data/FashionMNIST', train=True, download=True, transform=transforms.ToTensor())\n",
        "\n",
        "test = FashionMNIST('data/FashionMNIST', train=False, download=True, transform=transforms.ToTensor())"
      ],
      "execution_count": 4,
      "outputs": [
        {
          "output_type": "stream",
          "text": [
            "Downloading http://fashion-mnist.s3-website.eu-central-1.amazonaws.com/train-images-idx3-ubyte.gz\n",
            "Downloading http://fashion-mnist.s3-website.eu-central-1.amazonaws.com/train-labels-idx1-ubyte.gz\n",
            "Downloading http://fashion-mnist.s3-website.eu-central-1.amazonaws.com/t10k-images-idx3-ubyte.gz\n",
            "Downloading http://fashion-mnist.s3-website.eu-central-1.amazonaws.com/t10k-labels-idx1-ubyte.gz\n",
            "Processing...\n",
            "Done!\n"
          ],
          "name": "stdout"
        }
      ]
    },
    {
      "metadata": {
        "id": "B6aFdUvopIpy",
        "colab_type": "code",
        "colab": {}
      },
      "cell_type": "code",
      "source": [
        "train_loader = DataLoader(train, batch_size=128, shuffle=True)\n",
        "test_loader = DataLoader(test, batch_size=128, shuffle=False)"
      ],
      "execution_count": 0,
      "outputs": []
    },
    {
      "metadata": {
        "id": "ZmHfnSxjpSdp",
        "colab_type": "code",
        "colab": {}
      },
      "cell_type": "code",
      "source": [
        "class FlattenLayer(nn.Module):\n",
        "    def forward(self, x):\n",
        "        batch_size = x.size()[0]\n",
        "        return x.view(batch_size, -1)\n",
        "\n",
        "\n",
        "cnn = nn.Sequential(\n",
        "    nn.Conv2d(1, 32, 5),\n",
        "    nn.MaxPool2d(2),\n",
        "    nn.ReLU(),\n",
        "    nn.BatchNorm2d(32),\n",
        "    nn.Dropout2d(0.25),\n",
        "    nn.Conv2d(32, 64, 5),\n",
        "    nn.MaxPool2d(2),\n",
        "    nn.ReLU(),\n",
        "    nn.BatchNorm2d(64),\n",
        "    nn.Dropout2d(0.25),\n",
        "    FlattenLayer()\n",
        "    )\n",
        "\n",
        "test_input = torch.ones(1, 1, 28, 28)\n",
        "cnn_output_size = cnn(test_input).size()[-1]\n",
        "cnn_output_size\n",
        "\n",
        "mlp = nn.Sequential(\n",
        "    nn.Linear(cnn_output_size, 200),\n",
        "    nn.ReLU(),\n",
        "    nn.BatchNorm1d(200),\n",
        "    nn.Dropout(0.25),\n",
        "    nn.Linear(200, 10)\n",
        "    )\n",
        "\n",
        "net = nn.Sequential(\n",
        "    cnn,\n",
        "    mlp\n",
        "    )\n",
        "\n",
        "def eval_net(net, dataloader, device='cpu'):\n",
        "    net.to(device)\n",
        "    net.eval()\n",
        "    y_reals = []\n",
        "    y_preds = []\n",
        "    for x, y in dataloader:\n",
        "        x = x.to(device)\n",
        "        y = y.to(device)\n",
        "        with torch.no_grad():\n",
        "            _, y_pred = torch.max(net(x), 1)\n",
        "        y_reals.append(y)\n",
        "        y_preds.append(y_pred)\n",
        "    y_reals = torch.cat(y_reals)\n",
        "    y_preds = torch.cat(y_preds)\n",
        "    accuracy = (y_reals == y_preds).float().sum() / len(y_reals)\n",
        "    return accuracy.item()\n",
        "\n",
        "def train_net(net, train_loader, test_loader, optimizer=optim.Adam, criterion=nn.CrossEntropyLoss(),epoch=10, device='cpu'):\n",
        "    train_losses = []\n",
        "    train_acc = []\n",
        "    val_acc = []\n",
        "    net.to(device)\n",
        "    opt = optimizer(net.parameters())\n",
        "    def _update(optimizer, loss):\n",
        "        optimizer.zero_grad()\n",
        "        loss.backward()\n",
        "        optimizer.step()\n",
        "    for _ in range(epoch):\n",
        "        net.train()\n",
        "        y_reals = []\n",
        "        y_preds = []\n",
        "        for x, y in tqdm(train_loader):\n",
        "            x = x.to(device)\n",
        "            y = y.to(device)\n",
        "            h = net(x)\n",
        "            loss = criterion(h, y)\n",
        "            _update(opt, loss)\n",
        "            train_losses.append(loss.item())\n",
        "            _, y_pred = h.max(1)\n",
        "            y_reals.append(y)\n",
        "            y_preds.append(y_pred)\n",
        "        y_reals = torch.cat(y_reals)\n",
        "        y_preds = torch.cat(y_preds)\n",
        "        train_acc.append((y_reals == y_preds).float().sum() / len(y_reals))\n",
        "        val_acc.append(eval_net(net, test_loader, device))\n",
        "        print(f'train_acc: {train_acc[-1]}, val_acc:{val_acc[-1]}')\n",
        "\n",
        "    plt.plot(train_losses, label='train_loss')\n",
        "    plt.legend()\n",
        "    plt.show()\n",
        "\n",
        "    plt.plot(train_acc, c='r', label='train_acc')\n",
        "    plt.plot(val_acc, c='b', label='val_acc')\n",
        "    plt.legend()\n",
        "    plt.show()"
      ],
      "execution_count": 0,
      "outputs": []
    },
    {
      "metadata": {
        "id": "-3sCGyC-pW1f",
        "colab_type": "code",
        "colab": {
          "base_uri": "https://localhost:8080/",
          "height": 1360
        },
        "outputId": "c1de76e3-81ee-4009-e99c-6cd8b52e907f"
      },
      "cell_type": "code",
      "source": [
        "train_net(net, train_loader, test_loader, epoch=20, device='cuda:0')"
      ],
      "execution_count": 7,
      "outputs": [
        {
          "output_type": "stream",
          "text": [
            "100%|██████████| 469/469 [00:10<00:00, 43.63it/s]\n",
            "  1%|          | 5/469 [00:00<00:10, 42.38it/s]"
          ],
          "name": "stderr"
        },
        {
          "output_type": "stream",
          "text": [
            "train_acc: 0.8371166586875916, val_acc:0.8805999755859375\n"
          ],
          "name": "stdout"
        },
        {
          "output_type": "stream",
          "text": [
            "100%|██████████| 469/469 [00:10<00:00, 43.48it/s]\n",
            "  1%|          | 5/469 [00:00<00:10, 42.97it/s]"
          ],
          "name": "stderr"
        },
        {
          "output_type": "stream",
          "text": [
            "train_acc: 0.8841000199317932, val_acc:0.8942999839782715\n"
          ],
          "name": "stdout"
        },
        {
          "output_type": "stream",
          "text": [
            "100%|██████████| 469/469 [00:10<00:00, 43.32it/s]\n",
            "  1%|          | 5/469 [00:00<00:10, 42.57it/s]"
          ],
          "name": "stderr"
        },
        {
          "output_type": "stream",
          "text": [
            "train_acc: 0.8970000147819519, val_acc:0.9023000001907349\n"
          ],
          "name": "stdout"
        },
        {
          "output_type": "stream",
          "text": [
            "100%|██████████| 469/469 [00:10<00:00, 43.20it/s]\n",
            "  1%|          | 4/469 [00:00<00:12, 38.27it/s]"
          ],
          "name": "stderr"
        },
        {
          "output_type": "stream",
          "text": [
            "train_acc: 0.9044666886329651, val_acc:0.9025999903678894\n"
          ],
          "name": "stdout"
        },
        {
          "output_type": "stream",
          "text": [
            "100%|██████████| 469/469 [00:10<00:00, 42.73it/s]\n",
            "  1%|          | 5/469 [00:00<00:10, 43.19it/s]"
          ],
          "name": "stderr"
        },
        {
          "output_type": "stream",
          "text": [
            "train_acc: 0.9101833701133728, val_acc:0.9074999690055847\n"
          ],
          "name": "stdout"
        },
        {
          "output_type": "stream",
          "text": [
            "100%|██████████| 469/469 [00:10<00:00, 43.02it/s]\n",
            "  1%|          | 5/469 [00:00<00:10, 42.81it/s]"
          ],
          "name": "stderr"
        },
        {
          "output_type": "stream",
          "text": [
            "train_acc: 0.9120500087738037, val_acc:0.9089999794960022\n"
          ],
          "name": "stdout"
        },
        {
          "output_type": "stream",
          "text": [
            "100%|██████████| 469/469 [00:10<00:00, 43.75it/s]\n",
            "  1%|          | 5/469 [00:00<00:10, 42.91it/s]"
          ],
          "name": "stderr"
        },
        {
          "output_type": "stream",
          "text": [
            "train_acc: 0.9188166856765747, val_acc:0.9099999666213989\n"
          ],
          "name": "stdout"
        },
        {
          "output_type": "stream",
          "text": [
            "100%|██████████| 469/469 [00:10<00:00, 43.41it/s]\n",
            "  1%|          | 5/469 [00:00<00:10, 42.23it/s]"
          ],
          "name": "stderr"
        },
        {
          "output_type": "stream",
          "text": [
            "train_acc: 0.9209499955177307, val_acc:0.9156000018119812\n"
          ],
          "name": "stdout"
        },
        {
          "output_type": "stream",
          "text": [
            "100%|██████████| 469/469 [00:10<00:00, 43.29it/s]\n",
            "  1%|          | 5/469 [00:00<00:11, 41.54it/s]"
          ],
          "name": "stderr"
        },
        {
          "output_type": "stream",
          "text": [
            "train_acc: 0.9237499833106995, val_acc:0.9162999987602234\n"
          ],
          "name": "stdout"
        },
        {
          "output_type": "stream",
          "text": [
            "100%|██████████| 469/469 [00:10<00:00, 42.88it/s]\n",
            "  1%|          | 5/469 [00:00<00:10, 42.66it/s]"
          ],
          "name": "stderr"
        },
        {
          "output_type": "stream",
          "text": [
            "train_acc: 0.9260166883468628, val_acc:0.9138999581336975\n"
          ],
          "name": "stdout"
        },
        {
          "output_type": "stream",
          "text": [
            "100%|██████████| 469/469 [00:10<00:00, 43.06it/s]\n",
            "  1%|          | 5/469 [00:00<00:10, 43.13it/s]"
          ],
          "name": "stderr"
        },
        {
          "output_type": "stream",
          "text": [
            "train_acc: 0.9281833171844482, val_acc:0.9164999723434448\n"
          ],
          "name": "stdout"
        },
        {
          "output_type": "stream",
          "text": [
            "100%|██████████| 469/469 [00:10<00:00, 43.19it/s]\n",
            "  1%|          | 5/469 [00:00<00:10, 43.38it/s]"
          ],
          "name": "stderr"
        },
        {
          "output_type": "stream",
          "text": [
            "train_acc: 0.9297666549682617, val_acc:0.9162999987602234\n"
          ],
          "name": "stdout"
        },
        {
          "output_type": "stream",
          "text": [
            "100%|██████████| 469/469 [00:10<00:00, 43.16it/s]\n",
            "  1%|          | 5/469 [00:00<00:10, 42.77it/s]"
          ],
          "name": "stderr"
        },
        {
          "output_type": "stream",
          "text": [
            "train_acc: 0.931950032711029, val_acc:0.9213999509811401\n"
          ],
          "name": "stdout"
        },
        {
          "output_type": "stream",
          "text": [
            "100%|██████████| 469/469 [00:10<00:00, 42.92it/s]\n",
            "  1%|          | 5/469 [00:00<00:11, 41.13it/s]"
          ],
          "name": "stderr"
        },
        {
          "output_type": "stream",
          "text": [
            "train_acc: 0.9349166750907898, val_acc:0.9196999669075012\n"
          ],
          "name": "stdout"
        },
        {
          "output_type": "stream",
          "text": [
            "100%|██████████| 469/469 [00:10<00:00, 42.72it/s]\n",
            "  1%|          | 5/469 [00:00<00:10, 42.48it/s]"
          ],
          "name": "stderr"
        },
        {
          "output_type": "stream",
          "text": [
            "train_acc: 0.93545001745224, val_acc:0.9197999835014343\n"
          ],
          "name": "stdout"
        },
        {
          "output_type": "stream",
          "text": [
            "100%|██████████| 469/469 [00:10<00:00, 43.06it/s]\n",
            "  1%|          | 5/469 [00:00<00:11, 40.03it/s]"
          ],
          "name": "stderr"
        },
        {
          "output_type": "stream",
          "text": [
            "train_acc: 0.9375500082969666, val_acc:0.9208999872207642\n"
          ],
          "name": "stdout"
        },
        {
          "output_type": "stream",
          "text": [
            "100%|██████████| 469/469 [00:10<00:00, 43.08it/s]\n",
            "  1%|          | 5/469 [00:00<00:10, 43.19it/s]"
          ],
          "name": "stderr"
        },
        {
          "output_type": "stream",
          "text": [
            "train_acc: 0.9393166899681091, val_acc:0.9195999503135681\n"
          ],
          "name": "stdout"
        },
        {
          "output_type": "stream",
          "text": [
            "100%|██████████| 469/469 [00:10<00:00, 42.84it/s]\n",
            "  1%|          | 5/469 [00:00<00:10, 42.42it/s]"
          ],
          "name": "stderr"
        },
        {
          "output_type": "stream",
          "text": [
            "train_acc: 0.9414666891098022, val_acc:0.9192999601364136\n"
          ],
          "name": "stdout"
        },
        {
          "output_type": "stream",
          "text": [
            "100%|██████████| 469/469 [00:10<00:00, 42.84it/s]\n",
            "  1%|          | 4/469 [00:00<00:11, 39.28it/s]"
          ],
          "name": "stderr"
        },
        {
          "output_type": "stream",
          "text": [
            "train_acc: 0.9425333142280579, val_acc:0.9221999645233154\n"
          ],
          "name": "stdout"
        },
        {
          "output_type": "stream",
          "text": [
            "100%|██████████| 469/469 [00:10<00:00, 43.34it/s]\n"
          ],
          "name": "stderr"
        },
        {
          "output_type": "stream",
          "text": [
            "train_acc: 0.9432500004768372, val_acc:0.9212999939918518\n"
          ],
          "name": "stdout"
        },
        {
          "output_type": "display_data",
          "data": {
            "image/png": "[encoded data removed]",
            "text/plain": [
              "<matplotlib.figure.Figure at 0x7f1c4f509cc0>"
            ]
          },
          "metadata": {
            "tags": []
          }
        },
        {
          "output_type": "display_data",
          "data": {
            "image/png": "[encoded data removed]",
            "text/plain": [
              "<matplotlib.figure.Figure at 0x7f1c4f4c5fd0>"
            ]
          },
          "metadata": {
            "tags": []
          }
        }
      ]
    },
    {
      "metadata": {
        "id": "ZJXj4-46pcXj",
        "colab_type": "code",
        "colab": {}
      },
      "cell_type": "code",
      "source": [
        ""
      ],
      "execution_count": 0,
      "outputs": []
    }
  ]
}