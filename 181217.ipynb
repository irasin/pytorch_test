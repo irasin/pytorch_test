{
  "nbformat": 4,
  "nbformat_minor": 0,
  "metadata": {
    "colab": {
      "name": "181217.ipynb",
      "version": "0.3.2",
      "provenance": [],
      "collapsed_sections": [],
      "include_colab_link": true
    },
    "kernelspec": {
      "name": "python3",
      "display_name": "Python 3"
    },
    "accelerator": "GPU"
  },
  "cells": [
    {
      "cell_type": "markdown",
      "metadata": {
        "id": "view-in-github",
        "colab_type": "text"
      },
      "source": [
        "<a href=\"https://colab.research.google.com/github/irasin/pytroch_test/blob/master/181217.ipynb\" target=\"_parent\"><img src=\"https://colab.research.google.com/assets/colab-badge.svg\" alt=\"Open In Colab\"/></a>"
      ]
    },
    {
      "metadata": {
        "id": "wHivDjXlaH6x",
        "colab_type": "code",
        "outputId": "96c75762-c119-4818-bb9e-2355163f11d1",
        "colab": {
          "base_uri": "https://localhost:8080/",
          "height": 272
        }
      },
      "cell_type": "code",
      "source": [
        "!pip install torch torchvision\n",
        "!pip install pillow==4.1.1"
      ],
      "execution_count": 10,
      "outputs": [
        {
          "output_type": "stream",
          "text": [
            "Requirement already satisfied: torch in /usr/local/lib/python3.6/dist-packages (1.0.0)\n",
            "Requirement already satisfied: torchvision in /usr/local/lib/python3.6/dist-packages (0.2.1)\n",
            "Requirement already satisfied: pillow>=4.1.1 in /usr/local/lib/python3.6/dist-packages (from torchvision) (5.3.0)\n",
            "Requirement already satisfied: six in /usr/local/lib/python3.6/dist-packages (from torchvision) (1.11.0)\n",
            "Requirement already satisfied: numpy in /usr/local/lib/python3.6/dist-packages (from torchvision) (1.14.6)\n",
            "Collecting pillow==4.1.1\n",
            "\u001b[?25l  Downloading https://files.pythonhosted.org/packages/36/e5/88b3d60924a3f8476fa74ec086f5fbaba56dd6cee0d82845f883b6b6dd18/Pillow-4.1.1-cp36-cp36m-manylinux1_x86_64.whl (5.7MB)\n",
            "\u001b[K    100% |████████████████████████████████| 5.7MB 7.0MB/s \n",
            "\u001b[?25hRequirement already satisfied: olefile in /usr/local/lib/python3.6/dist-packages (from pillow==4.1.1) (0.46)\n",
            "Installing collected packages: pillow\n",
            "  Found existing installation: Pillow 5.3.0\n",
            "    Uninstalling Pillow-5.3.0:\n",
            "      Successfully uninstalled Pillow-5.3.0\n",
            "Successfully installed pillow-4.1.1\n"
          ],
          "name": "stdout"
        }
      ]
    },
    {
      "metadata": {
        "id": "bbUEreeTa4nB",
        "colab_type": "code",
        "colab": {}
      },
      "cell_type": "code",
      "source": [
        "import math\n",
        "from tqdm import tqdm\n",
        "import torch\n",
        "import torch.nn.functional as F\n",
        "import torch.nn as nn\n",
        "import torch.optim as optim\n",
        "from torch.utils.data import DataLoader\n",
        "from torchvision import transforms\n",
        "from torchvision.datasets import ImageFolder\n",
        "import matplotlib.pyplot as plt"
      ],
      "execution_count": 0,
      "outputs": []
    },
    {
      "metadata": {
        "id": "n83EW_8TbNWI",
        "colab_type": "code",
        "colab": {
          "base_uri": "https://localhost:8080/",
          "height": 235
        },
        "outputId": "34e1ce88-5ee9-4d7c-be79-eb4094624e04"
      },
      "cell_type": "code",
      "source": [
        "!wget http://vis-www.cs.umass.edu/lfw/lfw-deepfunneled.tgz\n",
        "!tar xf lfw-deepfunneled.tgz\n",
        "!mkdir lfw-deepfunneled/train\n",
        "!mv lfw-deepfunneled/[A-W]* lfw-deepfunneled/train\n",
        "!mkdir lfw-deepfunneled/test\n",
        "!mv lfw-deepfunneled/[X-Z]* lfw-deepfunneled/test"
      ],
      "execution_count": 3,
      "outputs": [
        {
          "output_type": "stream",
          "text": [
            "--2018-12-17 04:52:39--  http://vis-www.cs.umass.edu/lfw/lfw-deepfunneled.tgz\n",
            "Resolving vis-www.cs.umass.edu (vis-www.cs.umass.edu)... 128.119.244.95\n",
            "Connecting to vis-www.cs.umass.edu (vis-www.cs.umass.edu)|128.119.244.95|:80... connected.\n",
            "HTTP request sent, awaiting response... 200 OK\n",
            "Length: 108761145 (104M) [application/x-gzip]\n",
            "Saving to: ‘lfw-deepfunneled.tgz’\n",
            "\n",
            "lfw-deepfunneled.tg 100%[===================>] 103.72M  31.3MB/s    in 4.5s    \n",
            "\n",
            "2018-12-17 04:52:44 (23.1 MB/s) - ‘lfw-deepfunneled.tgz’ saved [108761145/108761145]\n",
            "\n",
            "mv: cannot move 'lfw-deepfunneled/train' to a subdirectory of itself, 'lfw-deepfunneled/train/train'\n"
          ],
          "name": "stdout"
        }
      ]
    },
    {
      "metadata": {
        "id": "Jkvbi6ehaYnX",
        "colab_type": "code",
        "colab": {
          "base_uri": "https://localhost:8080/",
          "height": 35
        },
        "outputId": "2bc42a80-1a51-48f8-8c67-4da7c486b770"
      },
      "cell_type": "code",
      "source": [
        "!ls lfw-deepfunneled/"
      ],
      "execution_count": 4,
      "outputs": [
        {
          "output_type": "stream",
          "text": [
            "test  train\n"
          ],
          "name": "stdout"
        }
      ]
    },
    {
      "metadata": {
        "id": "AjBOOco_YqdO",
        "colab_type": "code",
        "colab": {}
      },
      "cell_type": "code",
      "source": [
        "class DownSizedPairImageFolder(ImageFolder):\n",
        "    def __init__(self, root, transform=None, large_size=128, small_size=32, **kwds):\n",
        "        super().__init__(root, transform=transform, **kwds)\n",
        "        self.large_resizer = transforms.Resize(large_size)\n",
        "        self.small_resizer = transforms.Resize(small_size)\n",
        "      \n",
        "    def __getitem__(self, index):\n",
        "        path, _ = self.imgs[index]\n",
        "        img = self.loader(path)\n",
        "        large_img = self.large_resizer(img)\n",
        "        small_img = self.small_resizer(img)\n",
        "        \n",
        "        if self.transform is not None:\n",
        "            large_img = self.transform(large_img)\n",
        "            small_img = self.transform(small_img)\n",
        "        return small_img, large_img\n",
        "        "
      ],
      "execution_count": 0,
      "outputs": []
    },
    {
      "metadata": {
        "id": "3NyT_csHZABW",
        "colab_type": "code",
        "colab": {}
      },
      "cell_type": "code",
      "source": [
        "train_data = DownSizedPairImageFolder('lfw-deepfunneled/train', transform=transforms.ToTensor())\n",
        "test_data = DownSizedPairImageFolder('lfw-deepfunneled/test', transform=transforms.ToTensor())\n",
        "\n",
        "train_loader = DataLoader(train_data, batch_size=32, shuffle=True)\n",
        "test_loader = DataLoader(test_data, batch_size=32, shuffle=False)"
      ],
      "execution_count": 0,
      "outputs": []
    },
    {
      "metadata": {
        "id": "FxG2cCGWeCZ9",
        "colab_type": "code",
        "colab": {}
      },
      "cell_type": "code",
      "source": [
        "net = nn.Sequential(\n",
        "    nn.Conv2d(3, 256, 4, stride=2, padding=1),\n",
        "    nn.ReLU(),\n",
        "    nn.BatchNorm2d(256),\n",
        "    nn.Conv2d(256, 512, 4, stride=2, padding=1),\n",
        "    nn.ReLU(),\n",
        "    nn.BatchNorm2d(512),\n",
        "    nn.ConvTranspose2d(512, 256, 4, stride=2, padding=1),\n",
        "    nn.ReLU(),\n",
        "    nn.BatchNorm2d(256),\n",
        "    nn.ConvTranspose2d(256, 128, 4, stride=2, padding=1),\n",
        "    nn.ReLU(),\n",
        "    nn.BatchNorm2d(128),\n",
        "    nn.ConvTranspose2d(128, 64, 4, stride=2, padding=1),\n",
        "    nn.ReLU(),\n",
        "    nn.BatchNorm2d(64),\n",
        "    nn.ConvTranspose2d(64, 3, 4, stride=2, padding=1), \n",
        "    )"
      ],
      "execution_count": 0,
      "outputs": []
    },
    {
      "metadata": {
        "id": "0EkSmZOKeIHu",
        "colab_type": "code",
        "colab": {}
      },
      "cell_type": "code",
      "source": [
        "def psnr(mse, max_v=1.0):\n",
        "    return 10 * math.log10(max_v ** 2 / mse)"
      ],
      "execution_count": 0,
      "outputs": []
    },
    {
      "metadata": {
        "id": "Unh2CEudh1PG",
        "colab_type": "code",
        "colab": {}
      },
      "cell_type": "code",
      "source": [
        "def eval_net(net, dataloader, device):\n",
        "    net.eval()\n",
        "    y_reals = []\n",
        "    y_gens = []\n",
        "    for lr, hr in dataloader:\n",
        "        lr = lr.to(device)\n",
        "        hr = hr.to(device)\n",
        "        with torch.no_grad():\n",
        "            sr = net(lr)\n",
        "        y_reals.append(hr)\n",
        "        y_gens.append(sr)\n",
        "    y_reals = torch.cat(y_reals)\n",
        "    y_gens = torch.cat(y_gens)\n",
        "    return F.mse_loss(y_reals, y_gens).item()\n",
        "\n",
        "def train_net(net, train_loader, test_loader, optimizer=optim.Adam, criterion=nn.MSELoss(),\n",
        "              epoch=20, device='cpu'):\n",
        "    net.train()\n",
        "    opt = optimizer(net.parameters())\n",
        "    train_losses = []\n",
        "    val_losses = []\n",
        "    \n",
        "    for i in range(epoch):\n",
        "        for lr, hr in tqdm(train_loader):\n",
        "            lr = lr.to(device)\n",
        "            hr = hr.to(device)\n",
        "            sr = net(lr)\n",
        "            loss = criterion(sr, hr)\n",
        "            opt.zero_grad()\n",
        "            loss.backward()\n",
        "            opt.step()\n",
        "        train_losses.append(loss.item())\n",
        "\n",
        "        val_losses.append(eval_net(net, test_loader, device))\n",
        "        print(f'train loss: {train_losses[-1]}, val_loss: {val_losses[-1]}')\n",
        "    \n",
        "    plt.plot(train_losses, c='r', label='train_loss_log')\n",
        "    plt.plot(val_losses, c='b', label='val_loss_log')\n",
        "    plt.legend()\n",
        "    plt.show()"
      ],
      "execution_count": 0,
      "outputs": []
    },
    {
      "metadata": {
        "id": "mta1Uq6_qKTG",
        "colab_type": "code",
        "colab": {
          "base_uri": "https://localhost:8080/",
          "height": 345
        },
        "outputId": "7ae7618c-627d-4d45-c113-3537ce047575"
      },
      "cell_type": "code",
      "source": [
        "net.to('cuda:0')"
      ],
      "execution_count": 56,
      "outputs": [
        {
          "output_type": "execute_result",
          "data": {
            "text/plain": [
              "Sequential(\n",
              "  (0): Conv2d(3, 256, kernel_size=(4, 4), stride=(2, 2), padding=(1, 1))\n",
              "  (1): ReLU()\n",
              "  (2): BatchNorm2d(256, eps=1e-05, momentum=0.1, affine=True, track_running_stats=True)\n",
              "  (3): Conv2d(256, 512, kernel_size=(4, 4), stride=(2, 2), padding=(1, 1))\n",
              "  (4): ReLU()\n",
              "  (5): BatchNorm2d(512, eps=1e-05, momentum=0.1, affine=True, track_running_stats=True)\n",
              "  (6): ConvTranspose2d(512, 256, kernel_size=(4, 4), stride=(2, 2), padding=(1, 1))\n",
              "  (7): ReLU()\n",
              "  (8): BatchNorm2d(256, eps=1e-05, momentum=0.1, affine=True, track_running_stats=True)\n",
              "  (9): ConvTranspose2d(256, 128, kernel_size=(4, 4), stride=(2, 2), padding=(1, 1))\n",
              "  (10): ReLU()\n",
              "  (11): BatchNorm2d(128, eps=1e-05, momentum=0.1, affine=True, track_running_stats=True)\n",
              "  (12): ConvTranspose2d(128, 64, kernel_size=(4, 4), stride=(2, 2), padding=(1, 1))\n",
              "  (13): ReLU()\n",
              "  (14): BatchNorm2d(64, eps=1e-05, momentum=0.1, affine=True, track_running_stats=True)\n",
              "  (15): ConvTranspose2d(64, 3, kernel_size=(4, 4), stride=(2, 2), padding=(1, 1))\n",
              ")"
            ]
          },
          "metadata": {
            "tags": []
          },
          "execution_count": 56
        }
      ]
    },
    {
      "metadata": {
        "id": "QdhKjPr0qPSn",
        "colab_type": "code",
        "colab": {
          "base_uri": "https://localhost:8080/",
          "height": 995
        },
        "outputId": "5cc1bdd1-9bf8-4177-d513-b44152814a35"
      },
      "cell_type": "code",
      "source": [
        "train_net(net, train_loader, test_loader, device='cuda:0')"
      ],
      "execution_count": 57,
      "outputs": [
        {
          "output_type": "stream",
          "text": [
            "100%|██████████| 409/409 [01:02<00:00,  6.58it/s]\n",
            "  0%|          | 1/409 [00:00<01:00,  6.77it/s]"
          ],
          "name": "stderr"
        },
        {
          "output_type": "stream",
          "text": [
            "train loss: 0.004698124714195728, val_loss: 0.004861199762672186\n"
          ],
          "name": "stdout"
        },
        {
          "output_type": "stream",
          "text": [
            "100%|██████████| 409/409 [01:01<00:00,  6.63it/s]\n",
            "  0%|          | 1/409 [00:00<01:00,  6.70it/s]"
          ],
          "name": "stderr"
        },
        {
          "output_type": "stream",
          "text": [
            "train loss: 0.002782012103125453, val_loss: 0.0029306530486792326\n"
          ],
          "name": "stdout"
        },
        {
          "output_type": "stream",
          "text": [
            "100%|██████████| 409/409 [01:01<00:00,  6.61it/s]\n",
            "  0%|          | 1/409 [00:00<01:00,  6.76it/s]"
          ],
          "name": "stderr"
        },
        {
          "output_type": "stream",
          "text": [
            "train loss: 0.002012670272961259, val_loss: 0.0024103159084916115\n"
          ],
          "name": "stdout"
        },
        {
          "output_type": "stream",
          "text": [
            "100%|██████████| 409/409 [01:01<00:00,  6.61it/s]\n",
            "  0%|          | 1/409 [00:00<01:02,  6.58it/s]"
          ],
          "name": "stderr"
        },
        {
          "output_type": "stream",
          "text": [
            "train loss: 0.0016854994464665651, val_loss: 0.0021720407530665398\n"
          ],
          "name": "stdout"
        },
        {
          "output_type": "stream",
          "text": [
            "100%|██████████| 409/409 [01:01<00:00,  6.61it/s]\n",
            "  0%|          | 1/409 [00:00<01:01,  6.69it/s]"
          ],
          "name": "stderr"
        },
        {
          "output_type": "stream",
          "text": [
            "train loss: 0.0014641082379966974, val_loss: 0.002051348565146327\n"
          ],
          "name": "stdout"
        },
        {
          "output_type": "stream",
          "text": [
            "100%|██████████| 409/409 [01:01<00:00,  6.63it/s]\n",
            "  0%|          | 1/409 [00:00<01:02,  6.51it/s]"
          ],
          "name": "stderr"
        },
        {
          "output_type": "stream",
          "text": [
            "train loss: 0.0018047270132228732, val_loss: 0.002094022464007139\n"
          ],
          "name": "stdout"
        },
        {
          "output_type": "stream",
          "text": [
            "100%|██████████| 409/409 [01:01<00:00,  6.65it/s]\n",
            "  0%|          | 1/409 [00:00<01:01,  6.63it/s]"
          ],
          "name": "stderr"
        },
        {
          "output_type": "stream",
          "text": [
            "train loss: 0.0014997833641245961, val_loss: 0.0018659974448382854\n"
          ],
          "name": "stdout"
        },
        {
          "output_type": "stream",
          "text": [
            "100%|██████████| 409/409 [01:01<00:00,  6.63it/s]\n",
            "  0%|          | 1/409 [00:00<01:00,  6.70it/s]"
          ],
          "name": "stderr"
        },
        {
          "output_type": "stream",
          "text": [
            "train loss: 0.0017752338899299502, val_loss: 0.0018656904576346278\n"
          ],
          "name": "stdout"
        },
        {
          "output_type": "stream",
          "text": [
            "100%|██████████| 409/409 [01:01<00:00,  6.62it/s]\n",
            "  0%|          | 1/409 [00:00<01:00,  6.71it/s]"
          ],
          "name": "stderr"
        },
        {
          "output_type": "stream",
          "text": [
            "train loss: 0.0015175280859693885, val_loss: 0.0017736881272867322\n"
          ],
          "name": "stdout"
        },
        {
          "output_type": "stream",
          "text": [
            "100%|██████████| 409/409 [01:01<00:00,  6.63it/s]\n",
            "  0%|          | 1/409 [00:00<01:00,  6.80it/s]"
          ],
          "name": "stderr"
        },
        {
          "output_type": "stream",
          "text": [
            "train loss: 0.0017439245712012053, val_loss: 0.0017249174416065216\n"
          ],
          "name": "stdout"
        },
        {
          "output_type": "stream",
          "text": [
            "100%|██████████| 409/409 [01:01<00:00,  6.63it/s]\n",
            "  0%|          | 1/409 [00:00<01:00,  6.76it/s]"
          ],
          "name": "stderr"
        },
        {
          "output_type": "stream",
          "text": [
            "train loss: 0.0017812812002375722, val_loss: 0.0017495483625680208\n"
          ],
          "name": "stdout"
        },
        {
          "output_type": "stream",
          "text": [
            "100%|██████████| 409/409 [01:01<00:00,  6.65it/s]\n",
            "  0%|          | 1/409 [00:00<01:00,  6.76it/s]"
          ],
          "name": "stderr"
        },
        {
          "output_type": "stream",
          "text": [
            "train loss: 0.0014166131149977446, val_loss: 0.0018422522116452456\n"
          ],
          "name": "stdout"
        },
        {
          "output_type": "stream",
          "text": [
            "100%|██████████| 409/409 [01:01<00:00,  6.60it/s]\n",
            "  0%|          | 1/409 [00:00<01:00,  6.74it/s]"
          ],
          "name": "stderr"
        },
        {
          "output_type": "stream",
          "text": [
            "train loss: 0.001766587607562542, val_loss: 0.0017192343948408961\n"
          ],
          "name": "stdout"
        },
        {
          "output_type": "stream",
          "text": [
            "100%|██████████| 409/409 [01:01<00:00,  6.61it/s]\n",
            "  0%|          | 1/409 [00:00<01:00,  6.76it/s]"
          ],
          "name": "stderr"
        },
        {
          "output_type": "stream",
          "text": [
            "train loss: 0.0017554251244291663, val_loss: 0.0016612937906756997\n"
          ],
          "name": "stdout"
        },
        {
          "output_type": "stream",
          "text": [
            "100%|██████████| 409/409 [01:01<00:00,  6.61it/s]\n",
            "  0%|          | 1/409 [00:00<01:04,  6.30it/s]"
          ],
          "name": "stderr"
        },
        {
          "output_type": "stream",
          "text": [
            "train loss: 0.0011722109047695994, val_loss: 0.0016211227048188448\n"
          ],
          "name": "stdout"
        },
        {
          "output_type": "stream",
          "text": [
            "100%|██████████| 409/409 [01:01<00:00,  6.61it/s]\n",
            "  0%|          | 1/409 [00:00<01:00,  6.76it/s]"
          ],
          "name": "stderr"
        },
        {
          "output_type": "stream",
          "text": [
            "train loss: 0.0010712079238146544, val_loss: 0.0016461237100884318\n"
          ],
          "name": "stdout"
        },
        {
          "output_type": "stream",
          "text": [
            "100%|██████████| 409/409 [01:01<00:00,  6.63it/s]\n",
            "  0%|          | 1/409 [00:00<01:00,  6.79it/s]"
          ],
          "name": "stderr"
        },
        {
          "output_type": "stream",
          "text": [
            "train loss: 0.0010848297970369458, val_loss: 0.0015927590429782867\n"
          ],
          "name": "stdout"
        },
        {
          "output_type": "stream",
          "text": [
            "100%|██████████| 409/409 [01:02<00:00,  6.59it/s]\n",
            "  0%|          | 1/409 [00:00<01:00,  6.74it/s]"
          ],
          "name": "stderr"
        },
        {
          "output_type": "stream",
          "text": [
            "train loss: 0.0012551352847367525, val_loss: 0.0015668680425733328\n"
          ],
          "name": "stdout"
        },
        {
          "output_type": "stream",
          "text": [
            "100%|██████████| 409/409 [01:01<00:00,  6.62it/s]\n",
            "  0%|          | 1/409 [00:00<01:00,  6.77it/s]"
          ],
          "name": "stderr"
        },
        {
          "output_type": "stream",
          "text": [
            "train loss: 0.0013721917057409883, val_loss: 0.001560861594043672\n"
          ],
          "name": "stdout"
        },
        {
          "output_type": "stream",
          "text": [
            "100%|██████████| 409/409 [01:01<00:00,  6.61it/s]\n"
          ],
          "name": "stderr"
        },
        {
          "output_type": "stream",
          "text": [
            "train loss: 0.0012633472215384245, val_loss: 0.001574000809341669\n"
          ],
          "name": "stdout"
        },
        {
          "output_type": "display_data",
          "data": {
            "image/png": "[encoded data removed]",
            "text/plain": [
              "<matplotlib.figure.Figure at 0x7f41e9ed06d8>"
            ]
          },
          "metadata": {
            "tags": []
          }
        }
      ]
    },
    {
      "metadata": {
        "id": "ZG1RpQB4rG_m",
        "colab_type": "code",
        "colab": {
          "base_uri": "https://localhost:8080/",
          "height": 445
        },
        "outputId": "1e426fe0-4939-4719-f1cc-6e417a38ba86"
      },
      "cell_type": "code",
      "source": [
        "from torchvision.utils import save_image\n",
        "\n",
        "random_test_loader = DataLoader(test_data, batch_size=4, shuffle=True)\n",
        "it = iter(random_test_loader)\n",
        "x, y = next(it)\n",
        "\n",
        "blin = F.upsample(x, 128, mode='bilinear', align_corners=True)\n",
        "sr = net(x.to('cuda:0')).to('cpu')\n",
        "\n",
        "save_image(torch.cat([y, blin, sr], 0), 'cnn_upscale.jpg', nrow=4)\n",
        "\n",
        "from IPython.display import Image, display_jpeg\n",
        "display_jpeg(Image('cnn_upscale.jpg'))"
      ],
      "execution_count": 58,
      "outputs": [
        {
          "output_type": "stream",
          "text": [
            "/usr/local/lib/python3.6/dist-packages/torch/nn/functional.py:2351: UserWarning: nn.functional.upsample is deprecated. Use nn.functional.interpolate instead.\n",
            "  warnings.warn(\"nn.functional.upsample is deprecated. Use nn.functional.interpolate instead.\")\n"
          ],
          "name": "stderr"
        },
        {
          "output_type": "display_data",
          "data": {
            "image/jpeg": "[encoded data removed]"
          },
          "metadata": {
            "tags": []
          }
        }
      ]
    },
    {
      "metadata": {
        "id": "x5ihDi29uqWW",
        "colab_type": "code",
        "colab": {}
      },
      "cell_type": "code",
      "source": [
        ""
      ],
      "execution_count": 0,
      "outputs": []
    }
  ]
}